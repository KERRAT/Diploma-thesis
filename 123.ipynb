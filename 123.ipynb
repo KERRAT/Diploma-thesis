{
 "cells": [
  {
   "cell_type": "code",
   "execution_count": 1,
   "metadata": {},
   "outputs": [
    {
     "name": "stdout",
     "output_type": "stream",
     "text": [
      "Потік 1: рядок 1\n",
      "Потік 1: рядок 2\n",
      "Потік 1: рядок 3\n",
      "Потік 2: рядок 1\n",
      "Потік 2: рядок 2\n",
      "Потік 2: рядок 3\n",
      "Потік 3: рядок 1\n",
      "Потік 3: рядок 2\n",
      "Потік 3: рядок 3\n",
      "Потік 4: рядок 1\n",
      "Потік 4: рядок 2\n",
      "Потік 4: рядок 3\n",
      "Всі потоки завершили роботу.\n"
     ]
    }
   ],
   "source": [
    "import threading\n",
    "\n",
    "# Функція для друку послідовності рядків, переданих у вигляді списку\n",
    "def print_strings(strings_list):\n",
    "    for string in strings_list:\n",
    "        print(string)\n",
    "\n",
    "# Визначення послідовностей рядків для кожного потоку\n",
    "thread_1_strings = [\"Потік 1: рядок 1\", \"Потік 1: рядок 2\", \"Потік 1: рядок 3\"]\n",
    "thread_2_strings = [\"Потік 2: рядок 1\", \"Потік 2: рядок 2\", \"Потік 2: рядок 3\"]\n",
    "thread_3_strings = [\"Потік 3: рядок 1\", \"Потік 3: рядок 2\", \"Потік 3: рядок 3\"]\n",
    "thread_4_strings = [\"Потік 4: рядок 1\", \"Потік 4: рядок 2\", \"Потік 4: рядок 3\"]\n",
    "\n",
    "# Створення потоків\n",
    "thread1 = threading.Thread(target=print_strings, args=(thread_1_strings,))\n",
    "thread2 = threading.Thread(target=print_strings, args=(thread_2_strings,))\n",
    "thread3 = threading.Thread(target=print_strings, args=(thread_3_strings,))\n",
    "thread4 = threading.Thread(target=print_strings, args=(thread_4_strings,))\n",
    "\n",
    "# Запуск потоків\n",
    "thread1.start()\n",
    "thread2.start()\n",
    "thread3.start()\n",
    "thread4.start()\n",
    "\n",
    "# Очікування завершення потоків\n",
    "thread1.join()\n",
    "thread2.join()\n",
    "thread3.join()\n",
    "thread4.join()\n",
    "\n",
    "print(\"Всі потоки завершили роботу.\")\n"
   ]
  },
  {
   "cell_type": "code",
   "execution_count": 4,
   "metadata": {},
   "outputs": [
    {
     "name": "stdout",
     "output_type": "stream",
     "text": [
      "Запуск потоку з низьким пріоритетом...\n",
      "Запуск потоку з високим пріоритетом...\n",
      "Завершення потоку з високим пріоритетом\n",
      "Завершення потоку з низьким пріоритетом\n",
      "Всі потоки завершено\n"
     ]
    }
   ],
   "source": [
    "import psutil\n",
    "import threading\n",
    "import time\n",
    "import os\n",
    "\n",
    "def low_priority_task():\n",
    "    print(\"Запуск потоку з низьким пріоритетом...\")\n",
    "    psutil.Process(os.getpid()).nice(psutil.IDLE_PRIORITY_CLASS)\n",
    "    time.sleep(3)\n",
    "    print(\"Завершення потоку з низьким пріоритетом\")\n",
    "\n",
    "def high_priority_task():\n",
    "    print(\"Запуск потоку з високим пріоритетом...\")\n",
    "    psutil.Process(os.getpid()).nice(psutil.HIGH_PRIORITY_CLASS)\n",
    "    time.sleep(3)\n",
    "    print(\"Завершення потоку з високим пріоритетом\")\n",
    "\n",
    "# Створюємо потоки\n",
    "low_priority_thread = threading.Thread(target=low_priority_task)\n",
    "high_priority_thread = threading.Thread(target=high_priority_task)\n",
    "\n",
    "# Запускаємо потоки\n",
    "low_priority_thread.start()\n",
    "high_priority_thread.start()\n",
    "\n",
    "# Чекаємо завершення потоків\n",
    "low_priority_thread.join()\n",
    "high_priority_thread.join()\n",
    "\n",
    "print(\"Всі потоки завершено\")"
   ]
  }
 ],
 "metadata": {
  "kernelspec": {
   "display_name": "DeepLearning",
   "language": "python",
   "name": "python3"
  },
  "language_info": {
   "codemirror_mode": {
    "name": "ipython",
    "version": 3
   },
   "file_extension": ".py",
   "mimetype": "text/x-python",
   "name": "python",
   "nbconvert_exporter": "python",
   "pygments_lexer": "ipython3",
   "version": "3.8.16"
  },
  "orig_nbformat": 4
 },
 "nbformat": 4,
 "nbformat_minor": 2
}
