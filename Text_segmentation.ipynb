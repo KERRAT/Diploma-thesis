{
 "cells": [
  {
   "cell_type": "code",
   "execution_count": 42,
   "metadata": {},
   "outputs": [],
   "source": [
    "import os\n",
    "import cv2\n",
    "import numpy as np\n",
    "import tensorflow as tf\n",
    "from tensorflow.keras.models import load_model\n",
    "\n",
    "\n",
    "image_folder = \"Ukr\"\n",
    "model_path = 'C:/Models/Ukrainian_OCR_tf_2.1.h5'\n",
    "model = load_model(model_path)\n",
    "\n",
    "\n",
    "output_folder = \"tmp\"\n",
    "if not os.path.exists(output_folder):\n",
    "    os.makedirs(output_folder)"
   ]
  },
  {
   "cell_type": "code",
   "execution_count": 43,
   "metadata": {},
   "outputs": [],
   "source": [
    "from matplotlib import pyplot as plt\n",
    "\n",
    "\n",
    "def show_image(image, title=None, conversion=cv2.COLOR_BGR2RGB, dpi=10):\n",
    "\n",
    "    # Create a new figure with the specified dpi\n",
    "    plt.figure(dpi=dpi)\n",
    "\n",
    "    # Converts from one colour space to the other. this is needed as RGB\n",
    "    # is not the default colour space for OpenCV\n",
    "    image = cv2.cvtColor(image, conversion)\n",
    "\n",
    "    # Show the image\n",
    "    plt.imshow(image)\n",
    "\n",
    "    # remove the axis / ticks for a clean looking image\n",
    "    plt.xticks([])\n",
    "    plt.yticks([])\n",
    "\n",
    "    # if a title is provided, show it\n",
    "    if title is not None:\n",
    "        plt.title(title)\n",
    "\n",
    "    plt.show()"
   ]
  },
  {
   "cell_type": "code",
   "execution_count": 44,
   "metadata": {},
   "outputs": [],
   "source": [
    "def resize_image(image, max_size=960):\n",
    "    height, width = image.shape[:2]\n",
    "\n",
    "    if height > max_size or width > max_size:\n",
    "        if height > width:\n",
    "            new_height = max_size\n",
    "            new_width = int((width * max_size) / height)\n",
    "        else:\n",
    "            new_width = max_size\n",
    "            new_height = int((height * max_size) / width)\n",
    "        return cv2.resize(image, (new_width, new_height))\n",
    "    else:\n",
    "        return image"
   ]
  },
  {
   "cell_type": "code",
   "execution_count": 45,
   "metadata": {},
   "outputs": [],
   "source": [
    "def clear_border(image):\n",
    "    top, bottom, left, right = 1, 1, 1, 1\n",
    "    image_without_borders = image[top:-bottom, left:-right]\n",
    "\n",
    "    image_with_border = cv2.copyMakeBorder(image_without_borders, 1, 1, 1, 1, cv2.BORDER_CONSTANT, value=[255, 255, 255])\n",
    "    return image_with_border"
   ]
  },
  {
   "cell_type": "code",
   "execution_count": 46,
   "metadata": {},
   "outputs": [],
   "source": [
    "\n",
    "def format_image(image):\n",
    "    if image is None or not isinstance(image, np.ndarray) or len(image.shape) < 2:\n",
    "        raise ValueError(\"Invalid input image.\")\n",
    "\n",
    "    if len(image.shape) == 2 or image.shape[2] == 1:\n",
    "        image = cv2.cvtColor(image, cv2.COLOR_GRAY2BGR)\n",
    "    elif image.shape[2] > 3:\n",
    "        image = image[:, :, :3]\n",
    "    return image"
   ]
  },
  {
   "cell_type": "code",
   "execution_count": 47,
   "metadata": {},
   "outputs": [],
   "source": [
    "def clear_background(image):\n",
    "    formated = format_image(image)\n",
    "\n",
    "    image_with_border = clear_border(formated)\n",
    "\n",
    "    gray_image = cv2.cvtColor(image_with_border, cv2.COLOR_BGR2GRAY)\n",
    "\n",
    "    # Apply GaussianBlur to reduce noise\n",
    "    blurred_image = cv2.GaussianBlur(gray_image, (3, 3), 0)\n",
    "\n",
    "    # Apply adaptive thresholding\n",
    "    thresh = cv2.adaptiveThreshold(blurred_image, 255, cv2.ADAPTIVE_THRESH_GAUSSIAN_C, cv2.THRESH_BINARY, 27, 50)\n",
    "\n",
    "    return thresh"
   ]
  },
  {
   "cell_type": "code",
   "execution_count": 48,
   "metadata": {},
   "outputs": [],
   "source": [
    "def is_line_empty(line, threshold=0.03, gray_threshold=130):\n",
    "    \"\"\"\n",
    "    Determine if a line contains text based on the number of non-white pixels.\n",
    "\n",
    "    Args:\n",
    "    line (numpy.ndarray): Image of the line.\n",
    "    threshold (float): Threshold for the proportion of non-white pixels to consider a line as empty. Default is 0.01 (1%).\n",
    "    gray_threshold (int): Gray level threshold to consider a pixel as non-white. Default is 200.\n",
    "\n",
    "    Returns:\n",
    "    bool: True if the line is empty, False otherwise.\n",
    "    \"\"\"\n",
    "\n",
    "    non_white_pixels = np.count_nonzero(line < gray_threshold)\n",
    "    total_pixels = line.size\n",
    "\n",
    "    if non_white_pixels / total_pixels < threshold:\n",
    "        return True\n",
    "    else:\n",
    "        return False"
   ]
  },
  {
   "cell_type": "code",
   "execution_count": 49,
   "metadata": {},
   "outputs": [
    {
     "data": {
      "image/png": "[encoded data removed]",
      "text/plain": [
       "<Figure size 220x100 with 1 Axes>"
      ]
     },
     "metadata": {},
     "output_type": "display_data"
    }
   ],
   "source": [
    "def apply_brightness_contrast(input_img, brightness = 0, contrast = 0):\n",
    "    \n",
    "    if brightness != 0:\n",
    "        if brightness > 0:\n",
    "            shadow = brightness\n",
    "            highlight = 255\n",
    "        else:\n",
    "            shadow = 0\n",
    "            highlight = 255 + brightness\n",
    "        alpha_b = (highlight - shadow)/255\n",
    "        gamma_b = shadow\n",
    "        \n",
    "        buf = cv2.addWeighted(input_img, alpha_b, input_img, 0, gamma_b)\n",
    "    else:\n",
    "        buf = input_img.copy()\n",
    "    \n",
    "    if contrast != 0:\n",
    "        f = 131*(contrast + 127)/(127*(131-contrast))\n",
    "        alpha_c = f\n",
    "        gamma_c = 127*(1-f)\n",
    "        \n",
    "        buf = cv2.addWeighted(buf, alpha_c, buf, 0, gamma_c)\n",
    "\n",
    "    return buf\n",
    "\n",
    "im = cv2.imread('Ukr/Franko_page.jpg')\n",
    "im = apply_brightness_contrast(im, contrast=40, brightness=20)\n",
    "show_image(im)"
   ]
  },
  {
   "cell_type": "code",
   "execution_count": 50,
   "metadata": {},
   "outputs": [],
   "source": [
    "from imutils import contours\n",
    "\n",
    "def segment_words(image, p_image, file_name, line_number):\n",
    "    converted = cv2.bitwise_not(p_image)\n",
    "\n",
    "    blurred_image = cv2.GaussianBlur(converted, (5, 5), 0)\n",
    "\n",
    "    # Apply morphological dilation to connect words\n",
    "    kernel = cv2.getStructuringElement(cv2.MORPH_RECT, (3, 12))\n",
    "    dilated = cv2.dilate(blurred_image, kernel, iterations=1)\n",
    "\n",
    "    cnts = cv2.findContours(dilated, cv2.RETR_EXTERNAL, cv2.CHAIN_APPROX_SIMPLE)\n",
    "    cnts = cnts[0] if len(cnts) == 2 else cnts[1]\n",
    "\n",
    "\n",
    "    words_images = []\n",
    "    if len(cnts) > 0:\n",
    "        cnts, _ = contours.sort_contours(cnts, method=\"left-to-right\")\n",
    "\n",
    "        for c in cnts:\n",
    "            area = cv2.contourArea(c)\n",
    "            if area > 10:\n",
    "                x, y, w, h = cv2.boundingRect(c)\n",
    "                ROI = image[y:y+h, x:x+w]\n",
    "                words_images.append(ROI)\n",
    "\n",
    "    return words_images\n",
    "\n",
    "\n",
    "\n",
    "im = cv2.imread('tmp\\\\photo_2023-_page\\\\line_27.jpg')\n",
    "p_im = clear_background(im)\n",
    "im = segment_words(im, p_im, '', '')\n",
    "\n",
    "for word in im:\n",
    "    show_image(word)"
   ]
  },
  {
   "cell_type": "code",
   "execution_count": 52,
   "metadata": {},
   "outputs": [
    {
     "data": {
      "image/png": "[encoded data removed]",
      "text/plain": [
       "<Figure size 220x100 with 1 Axes>"
      ]
     },
     "metadata": {},
     "output_type": "display_data"
    },
    {
     "data": {
      "image/png": "[encoded data removed]",
      "text/plain": [
       "<Figure size 220x100 with 1 Axes>"
      ]
     },
     "metadata": {},
     "output_type": "display_data"
    },
    {
     "data": {
      "image/png": "[encoded data removed]",
      "text/plain": [
       "<Figure size 220x100 with 1 Axes>"
      ]
     },
     "metadata": {},
     "output_type": "display_data"
    },
    {
     "data": {
      "image/png": "[encoded data removed]",
      "text/plain": [
       "<Figure size 220x100 with 1 Axes>"
      ]
     },
     "metadata": {},
     "output_type": "display_data"
    },
    {
     "data": {
      "image/png": "[encoded data removed]",
      "text/plain": [
       "<Figure size 220x100 with 1 Axes>"
      ]
     },
     "metadata": {},
     "output_type": "display_data"
    },
    {
     "data": {
      "image/png": "[encoded data removed]",
      "text/plain": [
       "<Figure size 220x100 with 1 Axes>"
      ]
     },
     "metadata": {},
     "output_type": "display_data"
    },
    {
     "data": {
      "image/png": "[encoded data removed]",
      "text/plain": [
       "<Figure size 220x100 with 1 Axes>"
      ]
     },
     "metadata": {},
     "output_type": "display_data"
    },
    {
     "data": {
      "image/png": "[encoded data removed]",
      "text/plain": [
       "<Figure size 220x100 with 1 Axes>"
      ]
     },
     "metadata": {},
     "output_type": "display_data"
    },
    {
     "data": {
      "image/png": "[encoded data removed]",
      "text/plain": [
       "<Figure size 220x100 with 1 Axes>"
      ]
     },
     "metadata": {},
     "output_type": "display_data"
    },
    {
     "data": {
      "image/png": "[encoded data removed]",
      "text/plain": [
       "<Figure size 220x100 with 1 Axes>"
      ]
     },
     "metadata": {},
     "output_type": "display_data"
    }
   ],
   "source": [
    "img_size = 32\n",
    "\n",
    "\n",
    "def extract_letters(word_image, img_size):\n",
    "    no_border = clear_border(word_image)\n",
    "    _, otsu_threshold = cv2.threshold(no_border, 0, 255, cv2.THRESH_BINARY_INV + cv2.THRESH_OTSU)\n",
    "\n",
    "    kernel = cv2.getStructuringElement(cv2.MORPH_RECT, (1, 3))\n",
    "    dilated = cv2.dilate(otsu_threshold, kernel, iterations=1)\n",
    "\n",
    "    kernel = cv2.getStructuringElement(cv2.MORPH_RECT, (2, 2))\n",
    "    eroded = cv2.erode(dilated, kernel, iterations=1)\n",
    "\n",
    "    kernel = cv2.getStructuringElement(cv2.MORPH_RECT, (1, 5))\n",
    "    dilated = cv2.dilate(eroded, kernel, iterations=1)\n",
    "\n",
    "    cnts, _ = cv2.findContours(dilated, cv2.RETR_EXTERNAL, cv2.CHAIN_APPROX_SIMPLE)\n",
    "    image_copy = word_image.copy()\n",
    "    image_copy = cv2.cvtColor(image_copy, cv2.COLOR_GRAY2BGR)\n",
    "    letters = []\n",
    "\n",
    "    cnts_sorted, _ = contours.sort_contours(cnts, method=\"left-to-right\")\n",
    "\n",
    "    # Process each contour, resize or pad the images\n",
    "    for cont in cnts_sorted:\n",
    "        x, y, w, h = cv2.boundingRect(cont)\n",
    "        if h > 0 and w > 0:\n",
    "            cv2.rectangle(image_copy, (x, y), (x + w, y + h), (0, 255, 0), 2)\n",
    "\n",
    "            letter = word_image[y:y+h, x:x+w]\n",
    "\n",
    "            thresh = cv2.adaptiveThreshold(letter, 255, cv2.ADAPTIVE_THRESH_GAUSSIAN_C, cv2.THRESH_BINARY_INV, 181, 40)\n",
    "\n",
    "            if h > img_size or w > img_size:\n",
    "                # Resize the letter image while keeping the aspect ratio\n",
    "                aspect_ratio = min(float(w), float(h)) / max(float(w), float(h))\n",
    "\n",
    "                if h > img_size:\n",
    "                    h = img_size\n",
    "                    w = int(aspect_ratio * h)\n",
    "                else: # w > img_size\n",
    "                    w = img_size\n",
    "                    h = int(aspect_ratio * w)\n",
    "\n",
    "                letter_processed = cv2.resize(thresh, (w, h), interpolation=cv2.INTER_AREA)\n",
    "\n",
    "            # Calculate padding for the current letter\n",
    "            pad_top = img_size - h\n",
    "            pad_bottom = 2\n",
    "            pad_left = (img_size - w) // 2\n",
    "            pad_right = img_size - w - pad_left\n",
    "\n",
    "\n",
    "            # Pad the letter image to match the maximum dimensions\n",
    "            letter_processed = cv2.copyMakeBorder(thresh, pad_top, pad_bottom, pad_left, pad_right, cv2.BORDER_CONSTANT, value=0)\n",
    "            letters.append(letter_processed)\n",
    "\n",
    "    return letters\n",
    "\n",
    "\n",
    "\n",
    "im = cv2.imread('tmp\\\\photo_2023-_page\\\\line_27\\\\word_6.jpg')\n",
    "im = cv2.cvtColor(im, cv2.COLOR_BGR2GRAY)\n",
    "letters = extract_letters(im, 32)\n",
    "\n",
    "for letter in letters:\n",
    "    show_image(letter, 1)"
   ]
  },
  {
   "cell_type": "code",
   "execution_count": 53,
   "metadata": {},
   "outputs": [
    {
     "data": {
      "image/png": "[encoded data removed]",
      "text/plain": [
       "<Figure size 220x100 with 1 Axes>"
      ]
     },
     "metadata": {},
     "output_type": "display_data"
    },
    {
     "name": "stdout",
     "output_type": "stream",
     "text": [
      "letter: п; probability: 0.9945397973060608\n"
     ]
    },
    {
     "data": {
      "image/png": "[encoded data removed]",
      "text/plain": [
       "<Figure size 220x100 with 1 Axes>"
      ]
     },
     "metadata": {},
     "output_type": "display_data"
    },
    {
     "name": "stdout",
     "output_type": "stream",
     "text": [
      "letter: і; probability: 0.9938076138496399\n"
     ]
    },
    {
     "data": {
      "image/png": "[encoded data removed]",
      "text/plain": [
       "<Figure size 220x100 with 1 Axes>"
      ]
     },
     "metadata": {},
     "output_type": "display_data"
    },
    {
     "name": "stdout",
     "output_type": "stream",
     "text": [
      "letter: д; probability: 0.9970826506614685\n"
     ]
    },
    {
     "data": {
      "image/png": "[encoded data removed]",
      "text/plain": [
       "<Figure size 220x100 with 1 Axes>"
      ]
     },
     "metadata": {},
     "output_type": "display_data"
    },
    {
     "name": "stdout",
     "output_type": "stream",
     "text": [
      "letter: п; probability: 0.9904229640960693\n"
     ]
    },
    {
     "data": {
      "image/png": "[encoded data removed]",
      "text/plain": [
       "<Figure size 220x100 with 1 Axes>"
      ]
     },
     "metadata": {},
     "output_type": "display_data"
    },
    {
     "name": "stdout",
     "output_type": "stream",
     "text": [
      "letter: р; probability: 0.9920141100883484\n"
     ]
    },
    {
     "data": {
      "image/png": "[encoded data removed]",
      "text/plain": [
       "<Figure size 220x100 with 1 Axes>"
      ]
     },
     "metadata": {},
     "output_type": "display_data"
    },
    {
     "name": "stdout",
     "output_type": "stream",
     "text": [
      "letter: и; probability: 0.9843477010726929\n"
     ]
    },
    {
     "data": {
      "image/png": "[encoded data removed]",
      "text/plain": [
       "<Figure size 220x100 with 1 Axes>"
      ]
     },
     "metadata": {},
     "output_type": "display_data"
    },
    {
     "name": "stdout",
     "output_type": "stream",
     "text": [
      "letter: є; probability: 0.9629616141319275\n"
     ]
    },
    {
     "data": {
      "image/png": "[encoded data removed]",
      "text/plain": [
       "<Figure size 220x100 with 1 Axes>"
      ]
     },
     "metadata": {},
     "output_type": "display_data"
    },
    {
     "name": "stdout",
     "output_type": "stream",
     "text": [
      "letter: м; probability: 0.9823300838470459\n"
     ]
    },
    {
     "data": {
      "image/png": "[encoded data removed]",
      "text/plain": [
       "<Figure size 220x100 with 1 Axes>"
      ]
     },
     "metadata": {},
     "output_type": "display_data"
    },
    {
     "name": "stdout",
     "output_type": "stream",
     "text": [
      "letter: щ; probability: 0.5488680005073547\n"
     ]
    },
    {
     "data": {
      "image/png": "[encoded data removed]",
      "text/plain": [
       "<Figure size 220x100 with 1 Axes>"
      ]
     },
     "metadata": {},
     "output_type": "display_data"
    },
    {
     "name": "stdout",
     "output_type": "stream",
     "text": [
      "letter: ,; probability: 0.6331358551979065\n"
     ]
    }
   ],
   "source": [
    "\n",
    "\n",
    "def recognize_letter(letter_image, model, attempts=3, min_probability=0.2):\n",
    "    letters = [\n",
    "        'А','Б','В','Г','Ґ','Д','Е','Є','Ж','З','И','І','Ї','Й','К',\n",
    "        'Л','М','Н','О','П','Р','С','Т','У','Ф','Х','Ц','Ч','Ш','Щ',\n",
    "        'Ь','Ю','Я','а','б','в','г','ґ','д','е','є','ж','з','и','і',\n",
    "        'ї','й','к','л','м','н','о','п','р','с','т','у','ф','х','ц',\n",
    "        'ч','ш','щ','ь','ю','я','1','2','3','4','5','6','7','8','9',\n",
    "        '0','№','%','@',',','.','?',':',';','\"','!','(',')','-','\\''\n",
    "    ]\n",
    "\n",
    "    for attempt in range(attempts):\n",
    "        # Змінюємо розмір зображення літери до 32x32\n",
    "        resized_letter = cv2.resize(letter_image, (32, 32), interpolation=cv2.INTER_AREA)\n",
    "\n",
    "        blur_size = (3, 3)  # розмір ядра для гаусового блюру, можна змінювати за потреби\n",
    "        blur_sigma = 0  # відхилення, якщо дорівнює 0, відхилення обчислюється автоматично\n",
    "        letter_blured = cv2.GaussianBlur(resized_letter, blur_size, blur_sigma)\n",
    "\n",
    "        # Перевіряємо кількість каналів у зображенні\n",
    "        if len(letter_blured.shape) == 3:\n",
    "            # Конвертуємо зображення у відтінки сірого, якщо воно кольорове\n",
    "            gray_letter = cv2.cvtColor(letter_blured, cv2.COLOR_BGR2GRAY)\n",
    "        else:\n",
    "            gray_letter = letter_blured\n",
    "\n",
    "        # Конвертуємо в float32 та нормалізуємо\n",
    "        data = np.array(gray_letter, dtype=np.float32)\n",
    "        data = np.expand_dims(data, axis=-1)\n",
    "        data /= 255.0\n",
    "\n",
    "        # Передбачаємо літеру за допомогою навченої моделі\n",
    "        prediction = model.predict(np.array([data]))[0]\n",
    "        predicted_index = np.argmax(prediction)\n",
    "        probability = prediction[predicted_index]  # Отримуємо ймовірність передбаченого індексу\n",
    "        predicted_letter = letters[predicted_index]  # Отримуємо передбачену літеру з масиву літер\n",
    "\n",
    "        if probability >= min_probability:\n",
    "            return predicted_letter, probability, predicted_index\n",
    "        else:\n",
    "            # Змінюємо зображення перед наступною спробою\n",
    "            if attempt == 0:\n",
    "                # Зменшення зображення\n",
    "                scale_percent = 80\n",
    "                width = int(letter_image.shape[1] * scale_percent / 100)\n",
    "                height = int(letter_image.shape[0] * scale_percent / 100)\n",
    "                dim = (width, height)\n",
    "                letter_image = cv2.resize(letter_image, dim, interpolation=cv2.INTER_AREA)\n",
    "            elif attempt == 1:\n",
    "                # Збільшення зображення\n",
    "                scale_percent = 120\n",
    "                width = int(letter_image.shape[1] * scale_percent / 100)\n",
    "                height = int(letter_image.shape[0] * scale_percent / 100)\n",
    "                dim = (width, height)\n",
    "                letter_image = cv2.resize(letter_image, dim, interpolation=cv2.INTER_AREA)\n",
    "            elif attempt == 2:\n",
    "                # Поворот на 180 градусів\n",
    "                letter_image = cv2.rotate(letter_image, cv2.ROTATE_180)\n",
    "        # Якщо тричі ймовірність залишається низькою, повертаємо \"_\"\n",
    "    return \"_\", 0, -1\n",
    "\n",
    "for letter in letters:\n",
    "    show_image(letter)\n",
    "    pre_letter, probability, predicted_index = recognize_letter(letter, model)\n",
    "    print(f'letter: {pre_letter}; probability: {probability}')"
   ]
  },
  {
   "cell_type": "code",
   "execution_count": 54,
   "metadata": {},
   "outputs": [],
   "source": [
    "import os\n",
    "def save_image(folder_path, file_name, image):\n",
    "    output_file = os.path.join(folder_path, file_name)\n",
    "    cv2.imwrite(output_file, image)\n"
   ]
  },
  {
   "cell_type": "code",
   "execution_count": 55,
   "metadata": {},
   "outputs": [
    {
     "name": "stdout",
     "output_type": "stream",
     "text": [
      "Processing Ukr\\2_page.jpg\n",
      "x1= 0 , x2= 0 , Diff=  0\n",
      "x1= 0 , x2= 9 , Diff=  9\n",
      "x1= 9 , x2= 70 , Diff=  61\n",
      "x1= 70 , x2= 108 , Diff=  38\n",
      "x1= 108 , x2= 145 , Diff=  37\n",
      "x1= 145 , x2= 183 , Diff=  38\n",
      "x1= 183 , x2= 220 , Diff=  37\n",
      "x1= 220 , x2= 256 , Diff=  36\n",
      "x1= 256 , x2= 293 , Diff=  37\n",
      "x1= 293 , x2= 330 , Diff=  37\n",
      "x1= 330 , x2= 366 , Diff=  36\n",
      "x1= 366 , x2= 375 , Diff=  9\n",
      "  актраль еф етив ний в лікуванні готрих і хроніцних гепа-  титв рі3 н0ю №незу (алкогольних, токсичних, вірусних),  жиро в ої дитрофії ш цирозів печінки, для профілатик.и  захв о р юван ь печінки внасл;док шкімивого впливу різних  то ксинів ( алкоголь, жирна та го_ра їжа, напівфабрикати,  ко нсерванти), порушеннях режиму харчування (діта),  пр ий о мі лікарських засобів ( антибїотики, проґи3апальнї,  се рцев о-%динні, антитромботичні, протитуберкульо3ні,  -пф.о-т-№ ибкові засоби тощо), ммі0терапії, променевій   \n",
      "Processing Ukr\\Franko_page.jpg\n",
      "x1= 0 , x2= 0 , Diff=  0\n",
      "x1= 0 , x2= 9 , Diff=  9\n",
      "x1= 9 , x2= 21 , Diff=  12\n",
      "x1= 21 , x2= 51 , Diff=  30\n",
      "x1= 51 , x2= 79 , Diff=  28\n",
      "x1= 79 , x2= 107 , Diff=  28\n",
      "x1= 107 , x2= 134 , Diff=  27\n",
      "x1= 134 , x2= 163 , Diff=  29\n",
      "x1= 163 , x2= 195 , Diff=  32\n",
      "x1= 195 , x2= 236 , Diff=  41\n",
      "x1= 236 , x2= 264 , Diff=  28\n",
      "x1= 264 , x2= 292 , Diff=  28\n",
      "x1= 292 , x2= 319 , Diff=  27\n",
      "x1= 319 , x2= 347 , Diff=  28\n",
      "x1= 347 , x2= 376 , Diff=  29\n",
      "x1= 376 , x2= 403 , Diff=  27\n",
      "x1= 403 , x2= 431 , Diff=  28\n",
      "x1= 431 , x2= 459 , Diff=  28\n",
      "x1= 459 , x2= 498 , Diff=  39\n",
      "x1= 498 , x2= 532 , Diff=  34\n",
      "x1= 532 , x2= 559 , Diff=  27\n",
      "x1= 559 , x2= 587 , Diff=  28\n",
      "x1= 587 , x2= 615 , Diff=  28\n",
      "x1= 615 , x2= 642 , Diff=  27\n",
      "x1= 642 , x2= 671 , Diff=  29\n",
      "x1= 671 , x2= 722 , Diff=  51\n"
     ]
    },
    {
     "ename": "KeyboardInterrupt",
     "evalue": "",
     "output_type": "error",
     "traceback": [
      "\u001b[1;31m---------------------------------------------------------------------------\u001b[0m",
      "\u001b[1;31mKeyboardInterrupt\u001b[0m                         Traceback (most recent call last)",
      "Cell \u001b[1;32mIn[55], line 56\u001b[0m\n\u001b[0;32m     53\u001b[0m         image_path \u001b[39m=\u001b[39m os\u001b[39m.\u001b[39mpath\u001b[39m.\u001b[39mjoin(image_folder, file_name)\n\u001b[0;32m     54\u001b[0m         \u001b[39mprint\u001b[39m(\u001b[39mf\u001b[39m\u001b[39m\"\u001b[39m\u001b[39mProcessing \u001b[39m\u001b[39m{\u001b[39;00mimage_path\u001b[39m}\u001b[39;00m\u001b[39m\"\u001b[39m)\n\u001b[1;32m---> 56\u001b[0m         result \u001b[39m=\u001b[39m process_image(image_path, model, \u001b[39m32\u001b[39;49m)\n\u001b[0;32m     57\u001b[0m         \u001b[39mprint\u001b[39m(result\u001b[39m.\u001b[39mlower())\n\u001b[0;32m     59\u001b[0m \u001b[39mprint\u001b[39m(\u001b[39m\"\u001b[39m\u001b[39mProcessing completed.\u001b[39m\u001b[39m\"\u001b[39m)\n",
      "Cell \u001b[1;32mIn[55], line 45\u001b[0m, in \u001b[0;36mprocess_image\u001b[1;34m(image_path, model, img_size)\u001b[0m\n\u001b[0;32m     42\u001b[0m \u001b[39m# The temporary file will be deleted when the context manager exits\u001b[39;00m\n\u001b[0;32m     44\u001b[0m \u001b[39mfor\u001b[39;00m line_idx, line \u001b[39min\u001b[39;00m \u001b[39menumerate\u001b[39m(lines):\n\u001b[1;32m---> 45\u001b[0m     result \u001b[39m+\u001b[39m\u001b[39m=\u001b[39m process_line(line, image_path, line_idx, model, img_size)\n\u001b[0;32m     47\u001b[0m \u001b[39mreturn\u001b[39;00m result\u001b[39m.\u001b[39mlower()\n",
      "Cell \u001b[1;32mIn[55], line 22\u001b[0m, in \u001b[0;36mprocess_line\u001b[1;34m(line, file_name, line_idx, model, img_size)\u001b[0m\n\u001b[0;32m     20\u001b[0m         words_images \u001b[39m=\u001b[39m segment_words(line, p_line, file_name, line_idx)\n\u001b[0;32m     21\u001b[0m         \u001b[39mfor\u001b[39;00m word_idx, word_image \u001b[39min\u001b[39;00m \u001b[39menumerate\u001b[39m(words_images):\n\u001b[1;32m---> 22\u001b[0m             result \u001b[39m+\u001b[39m\u001b[39m=\u001b[39m process_word(word_image, file_name, line_idx, word_idx, model, img_size)\n\u001b[0;32m     23\u001b[0m \u001b[39mreturn\u001b[39;00m result \u001b[39m+\u001b[39m \u001b[39m'\u001b[39m\u001b[39m \u001b[39m\u001b[39m'\u001b[39m\n",
      "Cell \u001b[1;32mIn[55], line 12\u001b[0m, in \u001b[0;36mprocess_word\u001b[1;34m(word_image, file_name, line_idx, word_idx, model, img_size)\u001b[0m\n\u001b[0;32m     10\u001b[0m letters \u001b[39m=\u001b[39m extract_letters(word_image, img_size)\n\u001b[0;32m     11\u001b[0m \u001b[39mfor\u001b[39;00m letter_idx, letter_image \u001b[39min\u001b[39;00m \u001b[39menumerate\u001b[39m(letters):\n\u001b[1;32m---> 12\u001b[0m     result \u001b[39m+\u001b[39m\u001b[39m=\u001b[39m process_letter(letter_image, letter_idx, model)\n\u001b[0;32m     13\u001b[0m \u001b[39mreturn\u001b[39;00m result \u001b[39m+\u001b[39m \u001b[39m'\u001b[39m\u001b[39m \u001b[39m\u001b[39m'\u001b[39m\n",
      "Cell \u001b[1;32mIn[55], line 5\u001b[0m, in \u001b[0;36mprocess_letter\u001b[1;34m(letter_image, letter_idx, model)\u001b[0m\n\u001b[0;32m      4\u001b[0m \u001b[39mdef\u001b[39;00m \u001b[39mprocess_letter\u001b[39m(letter_image, letter_idx, model):\n\u001b[1;32m----> 5\u001b[0m     predicted_letter, probability, predicted_index \u001b[39m=\u001b[39m recognize_letter(letter_image, model)\n\u001b[0;32m      6\u001b[0m     \u001b[39mreturn\u001b[39;00m predicted_letter\n",
      "Cell \u001b[1;32mIn[53], line 32\u001b[0m, in \u001b[0;36mrecognize_letter\u001b[1;34m(letter_image, model, attempts, min_probability)\u001b[0m\n\u001b[0;32m     29\u001b[0m data \u001b[39m/\u001b[39m\u001b[39m=\u001b[39m \u001b[39m255.0\u001b[39m\n\u001b[0;32m     31\u001b[0m \u001b[39m# Передбачаємо літеру за допомогою навченої моделі\u001b[39;00m\n\u001b[1;32m---> 32\u001b[0m prediction \u001b[39m=\u001b[39m model\u001b[39m.\u001b[39;49mpredict(np\u001b[39m.\u001b[39;49marray([data]))[\u001b[39m0\u001b[39m]\n\u001b[0;32m     33\u001b[0m predicted_index \u001b[39m=\u001b[39m np\u001b[39m.\u001b[39margmax(prediction)\n\u001b[0;32m     34\u001b[0m probability \u001b[39m=\u001b[39m prediction[predicted_index]  \u001b[39m# Отримуємо ймовірність передбаченого індексу\u001b[39;00m\n",
      "File \u001b[1;32md:\\programming\\miniconda\\envs\\DeepLearning\\lib\\site-packages\\tensorflow\\python\\keras\\engine\\training.py:88\u001b[0m, in \u001b[0;36mdisable_multi_worker.<locals>._method_wrapper\u001b[1;34m(self, *args, **kwargs)\u001b[0m\n\u001b[0;32m     85\u001b[0m \u001b[39mif\u001b[39;00m \u001b[39mself\u001b[39m\u001b[39m.\u001b[39m_in_multi_worker_mode():  \u001b[39m# pylint: disable=protected-access\u001b[39;00m\n\u001b[0;32m     86\u001b[0m   \u001b[39mraise\u001b[39;00m \u001b[39mValueError\u001b[39;00m(\u001b[39m'\u001b[39m\u001b[39m{}\u001b[39;00m\u001b[39m is not supported in multi-worker mode.\u001b[39m\u001b[39m'\u001b[39m\u001b[39m.\u001b[39mformat(\n\u001b[0;32m     87\u001b[0m       method\u001b[39m.\u001b[39m\u001b[39m__name__\u001b[39m))\n\u001b[1;32m---> 88\u001b[0m \u001b[39mreturn\u001b[39;00m method(\u001b[39mself\u001b[39;49m, \u001b[39m*\u001b[39;49margs, \u001b[39m*\u001b[39;49m\u001b[39m*\u001b[39;49mkwargs)\n",
      "File \u001b[1;32md:\\programming\\miniconda\\envs\\DeepLearning\\lib\\site-packages\\tensorflow\\python\\keras\\engine\\training.py:1240\u001b[0m, in \u001b[0;36mModel.predict\u001b[1;34m(self, x, batch_size, verbose, steps, callbacks, max_queue_size, workers, use_multiprocessing)\u001b[0m\n\u001b[0;32m   1237\u001b[0m outputs \u001b[39m=\u001b[39m \u001b[39mNone\u001b[39;00m\n\u001b[0;32m   1238\u001b[0m \u001b[39mwith\u001b[39;00m \u001b[39mself\u001b[39m\u001b[39m.\u001b[39mdistribute_strategy\u001b[39m.\u001b[39mscope():\n\u001b[0;32m   1239\u001b[0m   \u001b[39m# Creates a `tf.data.Dataset` and handles batch and epoch iteration.\u001b[39;00m\n\u001b[1;32m-> 1240\u001b[0m   data_handler \u001b[39m=\u001b[39m data_adapter\u001b[39m.\u001b[39;49mDataHandler(\n\u001b[0;32m   1241\u001b[0m       x\u001b[39m=\u001b[39;49mx,\n\u001b[0;32m   1242\u001b[0m       batch_size\u001b[39m=\u001b[39;49mbatch_size,\n\u001b[0;32m   1243\u001b[0m       steps_per_epoch\u001b[39m=\u001b[39;49msteps,\n\u001b[0;32m   1244\u001b[0m       initial_epoch\u001b[39m=\u001b[39;49m\u001b[39m0\u001b[39;49m,\n\u001b[0;32m   1245\u001b[0m       epochs\u001b[39m=\u001b[39;49m\u001b[39m1\u001b[39;49m,\n\u001b[0;32m   1246\u001b[0m       max_queue_size\u001b[39m=\u001b[39;49mmax_queue_size,\n\u001b[0;32m   1247\u001b[0m       workers\u001b[39m=\u001b[39;49mworkers,\n\u001b[0;32m   1248\u001b[0m       use_multiprocessing\u001b[39m=\u001b[39;49muse_multiprocessing,\n\u001b[0;32m   1249\u001b[0m       model\u001b[39m=\u001b[39;49m\u001b[39mself\u001b[39;49m)\n\u001b[0;32m   1251\u001b[0m   \u001b[39m# Container that configures and calls `tf.keras.Callback`s.\u001b[39;00m\n\u001b[0;32m   1252\u001b[0m   \u001b[39mif\u001b[39;00m \u001b[39mnot\u001b[39;00m \u001b[39misinstance\u001b[39m(callbacks, callbacks_module\u001b[39m.\u001b[39mCallbackList):\n",
      "File \u001b[1;32md:\\programming\\miniconda\\envs\\DeepLearning\\lib\\site-packages\\tensorflow\\python\\keras\\engine\\data_adapter.py:1100\u001b[0m, in \u001b[0;36mDataHandler.__init__\u001b[1;34m(self, x, y, sample_weight, batch_size, steps_per_epoch, initial_epoch, epochs, shuffle, class_weight, max_queue_size, workers, use_multiprocessing, model)\u001b[0m\n\u001b[0;32m   1097\u001b[0m \u001b[39mself\u001b[39m\u001b[39m.\u001b[39m_insufficient_data \u001b[39m=\u001b[39m \u001b[39mFalse\u001b[39;00m\n\u001b[0;32m   1099\u001b[0m adapter_cls \u001b[39m=\u001b[39m select_data_adapter(x, y)\n\u001b[1;32m-> 1100\u001b[0m \u001b[39mself\u001b[39m\u001b[39m.\u001b[39m_adapter \u001b[39m=\u001b[39m adapter_cls(\n\u001b[0;32m   1101\u001b[0m     x,\n\u001b[0;32m   1102\u001b[0m     y,\n\u001b[0;32m   1103\u001b[0m     batch_size\u001b[39m=\u001b[39;49mbatch_size,\n\u001b[0;32m   1104\u001b[0m     steps\u001b[39m=\u001b[39;49msteps_per_epoch,\n\u001b[0;32m   1105\u001b[0m     epochs\u001b[39m=\u001b[39;49mepochs \u001b[39m-\u001b[39;49m initial_epoch,\n\u001b[0;32m   1106\u001b[0m     sample_weights\u001b[39m=\u001b[39;49msample_weight,\n\u001b[0;32m   1107\u001b[0m     shuffle\u001b[39m=\u001b[39;49mshuffle,\n\u001b[0;32m   1108\u001b[0m     max_queue_size\u001b[39m=\u001b[39;49mmax_queue_size,\n\u001b[0;32m   1109\u001b[0m     workers\u001b[39m=\u001b[39;49mworkers,\n\u001b[0;32m   1110\u001b[0m     use_multiprocessing\u001b[39m=\u001b[39;49muse_multiprocessing,\n\u001b[0;32m   1111\u001b[0m     distribution_strategy\u001b[39m=\u001b[39;49mds_context\u001b[39m.\u001b[39;49mget_strategy(),\n\u001b[0;32m   1112\u001b[0m     model\u001b[39m=\u001b[39;49mmodel)\n\u001b[0;32m   1114\u001b[0m strategy \u001b[39m=\u001b[39m ds_context\u001b[39m.\u001b[39mget_strategy()\n\u001b[0;32m   1115\u001b[0m dataset \u001b[39m=\u001b[39m \u001b[39mself\u001b[39m\u001b[39m.\u001b[39m_adapter\u001b[39m.\u001b[39mget_dataset()\n",
      "File \u001b[1;32md:\\programming\\miniconda\\envs\\DeepLearning\\lib\\site-packages\\tensorflow\\python\\keras\\engine\\data_adapter.py:362\u001b[0m, in \u001b[0;36mTensorLikeDataAdapter.__init__\u001b[1;34m(self, x, y, sample_weights, sample_weight_modes, batch_size, epochs, steps, shuffle, **kwargs)\u001b[0m\n\u001b[0;32m    359\u001b[0m     flat_dataset \u001b[39m=\u001b[39m flat_dataset\u001b[39m.\u001b[39mshuffle(\u001b[39m1024\u001b[39m)\u001b[39m.\u001b[39mrepeat(epochs)\n\u001b[0;32m    360\u001b[0m   \u001b[39mreturn\u001b[39;00m flat_dataset\n\u001b[1;32m--> 362\u001b[0m indices_dataset \u001b[39m=\u001b[39m indices_dataset\u001b[39m.\u001b[39;49mflat_map(slice_batch_indices)\n\u001b[0;32m    364\u001b[0m dataset \u001b[39m=\u001b[39m \u001b[39mself\u001b[39m\u001b[39m.\u001b[39mslice_inputs(indices_dataset, inputs)\n\u001b[0;32m    366\u001b[0m \u001b[39mif\u001b[39;00m shuffle \u001b[39m==\u001b[39m \u001b[39m\"\u001b[39m\u001b[39mbatch\u001b[39m\u001b[39m\"\u001b[39m:\n",
      "File \u001b[1;32md:\\programming\\miniconda\\envs\\DeepLearning\\lib\\site-packages\\tensorflow\\python\\data\\ops\\dataset_ops.py:1652\u001b[0m, in \u001b[0;36mDatasetV2.flat_map\u001b[1;34m(self, map_func)\u001b[0m\n\u001b[0;32m   1630\u001b[0m \u001b[39mdef\u001b[39;00m \u001b[39mflat_map\u001b[39m(\u001b[39mself\u001b[39m, map_func):\n\u001b[0;32m   1631\u001b[0m \u001b[39m  \u001b[39m\u001b[39m\"\"\"Maps `map_func` across this dataset and flattens the result.\u001b[39;00m\n\u001b[0;32m   1632\u001b[0m \n\u001b[0;32m   1633\u001b[0m \u001b[39m  Use `flat_map` if you want to make sure that the order of your dataset\u001b[39;00m\n\u001b[1;32m   (...)\u001b[0m\n\u001b[0;32m   1650\u001b[0m \u001b[39m    Dataset: A `Dataset`.\u001b[39;00m\n\u001b[0;32m   1651\u001b[0m \u001b[39m  \"\"\"\u001b[39;00m\n\u001b[1;32m-> 1652\u001b[0m   \u001b[39mreturn\u001b[39;00m FlatMapDataset(\u001b[39mself\u001b[39;49m, map_func)\n",
      "File \u001b[1;32md:\\programming\\miniconda\\envs\\DeepLearning\\lib\\site-packages\\tensorflow\\python\\data\\ops\\dataset_ops.py:4070\u001b[0m, in \u001b[0;36mFlatMapDataset.__init__\u001b[1;34m(self, input_dataset, map_func)\u001b[0m\n\u001b[0;32m   4068\u001b[0m \u001b[39m\u001b[39m\u001b[39m\"\"\"See `Dataset.flat_map()` for details.\"\"\"\u001b[39;00m\n\u001b[0;32m   4069\u001b[0m \u001b[39mself\u001b[39m\u001b[39m.\u001b[39m_input_dataset \u001b[39m=\u001b[39m input_dataset\n\u001b[1;32m-> 4070\u001b[0m \u001b[39mself\u001b[39m\u001b[39m.\u001b[39m_map_func \u001b[39m=\u001b[39m StructuredFunctionWrapper(\n\u001b[0;32m   4071\u001b[0m     map_func, \u001b[39mself\u001b[39;49m\u001b[39m.\u001b[39;49m_transformation_name(), dataset\u001b[39m=\u001b[39;49minput_dataset)\n\u001b[0;32m   4072\u001b[0m \u001b[39mif\u001b[39;00m \u001b[39mnot\u001b[39;00m \u001b[39misinstance\u001b[39m(\u001b[39mself\u001b[39m\u001b[39m.\u001b[39m_map_func\u001b[39m.\u001b[39moutput_structure, DatasetSpec):\n\u001b[0;32m   4073\u001b[0m   \u001b[39mraise\u001b[39;00m \u001b[39mTypeError\u001b[39;00m(\n\u001b[0;32m   4074\u001b[0m       \u001b[39m\"\u001b[39m\u001b[39m`map_func` must return a `Dataset` object. Got \u001b[39m\u001b[39m{}\u001b[39;00m\u001b[39m\"\u001b[39m\u001b[39m.\u001b[39mformat(\n\u001b[0;32m   4075\u001b[0m           \u001b[39mtype\u001b[39m(\u001b[39mself\u001b[39m\u001b[39m.\u001b[39m_map_func\u001b[39m.\u001b[39moutput_structure)))\n",
      "File \u001b[1;32md:\\programming\\miniconda\\envs\\DeepLearning\\lib\\site-packages\\tensorflow\\python\\data\\ops\\dataset_ops.py:3221\u001b[0m, in \u001b[0;36mStructuredFunctionWrapper.__init__\u001b[1;34m(self, func, transformation_name, dataset, input_classes, input_shapes, input_types, input_structure, add_to_graph, use_legacy_function, defun_kwargs)\u001b[0m\n\u001b[0;32m   3218\u001b[0m resource_tracker \u001b[39m=\u001b[39m tracking\u001b[39m.\u001b[39mResourceTracker()\n\u001b[0;32m   3219\u001b[0m \u001b[39mwith\u001b[39;00m tracking\u001b[39m.\u001b[39mresource_tracker_scope(resource_tracker):\n\u001b[0;32m   3220\u001b[0m   \u001b[39m# TODO(b/141462134): Switch to using garbage collection.\u001b[39;00m\n\u001b[1;32m-> 3221\u001b[0m   \u001b[39mself\u001b[39m\u001b[39m.\u001b[39m_function \u001b[39m=\u001b[39m wrapper_fn\u001b[39m.\u001b[39;49mget_concrete_function()\n\u001b[0;32m   3223\u001b[0m   \u001b[39mif\u001b[39;00m add_to_graph:\n\u001b[0;32m   3224\u001b[0m     \u001b[39mself\u001b[39m\u001b[39m.\u001b[39m_function\u001b[39m.\u001b[39madd_to_graph(ops\u001b[39m.\u001b[39mget_default_graph())\n",
      "File \u001b[1;32md:\\programming\\miniconda\\envs\\DeepLearning\\lib\\site-packages\\tensorflow\\python\\eager\\function.py:2531\u001b[0m, in \u001b[0;36mFunction.get_concrete_function\u001b[1;34m(self, *args, **kwargs)\u001b[0m\n\u001b[0;32m   2524\u001b[0m \u001b[39mdef\u001b[39;00m \u001b[39mget_concrete_function\u001b[39m(\u001b[39mself\u001b[39m, \u001b[39m*\u001b[39margs, \u001b[39m*\u001b[39m\u001b[39m*\u001b[39mkwargs):\n\u001b[0;32m   2525\u001b[0m \u001b[39m  \u001b[39m\u001b[39m\"\"\"Returns a `ConcreteFunction` specialized to inputs and execution context.\u001b[39;00m\n\u001b[0;32m   2526\u001b[0m \n\u001b[0;32m   2527\u001b[0m \u001b[39m  Args:\u001b[39;00m\n\u001b[0;32m   2528\u001b[0m \u001b[39m    *args: inputs to specialize on.\u001b[39;00m\n\u001b[0;32m   2529\u001b[0m \u001b[39m    **kwargs: inputs to specialize on.\u001b[39;00m\n\u001b[0;32m   2530\u001b[0m \u001b[39m  \"\"\"\u001b[39;00m\n\u001b[1;32m-> 2531\u001b[0m   graph_function \u001b[39m=\u001b[39m \u001b[39mself\u001b[39;49m\u001b[39m.\u001b[39;49m_get_concrete_function_garbage_collected(\n\u001b[0;32m   2532\u001b[0m       \u001b[39m*\u001b[39;49margs, \u001b[39m*\u001b[39;49m\u001b[39m*\u001b[39;49mkwargs)\n\u001b[0;32m   2533\u001b[0m   graph_function\u001b[39m.\u001b[39m_garbage_collector\u001b[39m.\u001b[39mrelease()  \u001b[39m# pylint: disable=protected-access\u001b[39;00m\n\u001b[0;32m   2534\u001b[0m   \u001b[39mreturn\u001b[39;00m graph_function\n",
      "File \u001b[1;32md:\\programming\\miniconda\\envs\\DeepLearning\\lib\\site-packages\\tensorflow\\python\\eager\\function.py:2496\u001b[0m, in \u001b[0;36mFunction._get_concrete_function_garbage_collected\u001b[1;34m(self, *args, **kwargs)\u001b[0m\n\u001b[0;32m   2494\u001b[0m   args, kwargs \u001b[39m=\u001b[39m \u001b[39mNone\u001b[39;00m, \u001b[39mNone\u001b[39;00m\n\u001b[0;32m   2495\u001b[0m \u001b[39mwith\u001b[39;00m \u001b[39mself\u001b[39m\u001b[39m.\u001b[39m_lock:\n\u001b[1;32m-> 2496\u001b[0m   graph_function, args, kwargs \u001b[39m=\u001b[39m \u001b[39mself\u001b[39;49m\u001b[39m.\u001b[39;49m_maybe_define_function(args, kwargs)\n\u001b[0;32m   2497\u001b[0m   \u001b[39mif\u001b[39;00m \u001b[39mself\u001b[39m\u001b[39m.\u001b[39minput_signature:\n\u001b[0;32m   2498\u001b[0m     args \u001b[39m=\u001b[39m \u001b[39mself\u001b[39m\u001b[39m.\u001b[39minput_signature\n",
      "File \u001b[1;32md:\\programming\\miniconda\\envs\\DeepLearning\\lib\\site-packages\\tensorflow\\python\\eager\\function.py:2777\u001b[0m, in \u001b[0;36mFunction._maybe_define_function\u001b[1;34m(self, args, kwargs)\u001b[0m\n\u001b[0;32m   2774\u001b[0m   \u001b[39mreturn\u001b[39;00m \u001b[39mself\u001b[39m\u001b[39m.\u001b[39m_define_function_with_shape_relaxation(args, kwargs)\n\u001b[0;32m   2776\u001b[0m \u001b[39mself\u001b[39m\u001b[39m.\u001b[39m_function_cache\u001b[39m.\u001b[39mmissed\u001b[39m.\u001b[39madd(call_context_key)\n\u001b[1;32m-> 2777\u001b[0m graph_function \u001b[39m=\u001b[39m \u001b[39mself\u001b[39;49m\u001b[39m.\u001b[39;49m_create_graph_function(args, kwargs)\n\u001b[0;32m   2778\u001b[0m \u001b[39mself\u001b[39m\u001b[39m.\u001b[39m_function_cache\u001b[39m.\u001b[39mprimary[cache_key] \u001b[39m=\u001b[39m graph_function\n\u001b[0;32m   2779\u001b[0m \u001b[39mreturn\u001b[39;00m graph_function, args, kwargs\n",
      "File \u001b[1;32md:\\programming\\miniconda\\envs\\DeepLearning\\lib\\site-packages\\tensorflow\\python\\eager\\function.py:2657\u001b[0m, in \u001b[0;36mFunction._create_graph_function\u001b[1;34m(self, args, kwargs, override_flat_arg_shapes)\u001b[0m\n\u001b[0;32m   2652\u001b[0m missing_arg_names \u001b[39m=\u001b[39m [\n\u001b[0;32m   2653\u001b[0m     \u001b[39m\"\u001b[39m\u001b[39m%s\u001b[39;00m\u001b[39m_\u001b[39m\u001b[39m%d\u001b[39;00m\u001b[39m\"\u001b[39m \u001b[39m%\u001b[39m (arg, i) \u001b[39mfor\u001b[39;00m i, arg \u001b[39min\u001b[39;00m \u001b[39menumerate\u001b[39m(missing_arg_names)\n\u001b[0;32m   2654\u001b[0m ]\n\u001b[0;32m   2655\u001b[0m arg_names \u001b[39m=\u001b[39m base_arg_names \u001b[39m+\u001b[39m missing_arg_names\n\u001b[0;32m   2656\u001b[0m graph_function \u001b[39m=\u001b[39m ConcreteFunction(\n\u001b[1;32m-> 2657\u001b[0m     func_graph_module\u001b[39m.\u001b[39;49mfunc_graph_from_py_func(\n\u001b[0;32m   2658\u001b[0m         \u001b[39mself\u001b[39;49m\u001b[39m.\u001b[39;49m_name,\n\u001b[0;32m   2659\u001b[0m         \u001b[39mself\u001b[39;49m\u001b[39m.\u001b[39;49m_python_function,\n\u001b[0;32m   2660\u001b[0m         args,\n\u001b[0;32m   2661\u001b[0m         kwargs,\n\u001b[0;32m   2662\u001b[0m         \u001b[39mself\u001b[39;49m\u001b[39m.\u001b[39;49minput_signature,\n\u001b[0;32m   2663\u001b[0m         autograph\u001b[39m=\u001b[39;49m\u001b[39mself\u001b[39;49m\u001b[39m.\u001b[39;49m_autograph,\n\u001b[0;32m   2664\u001b[0m         autograph_options\u001b[39m=\u001b[39;49m\u001b[39mself\u001b[39;49m\u001b[39m.\u001b[39;49m_autograph_options,\n\u001b[0;32m   2665\u001b[0m         arg_names\u001b[39m=\u001b[39;49marg_names,\n\u001b[0;32m   2666\u001b[0m         override_flat_arg_shapes\u001b[39m=\u001b[39;49moverride_flat_arg_shapes,\n\u001b[0;32m   2667\u001b[0m         capture_by_value\u001b[39m=\u001b[39;49m\u001b[39mself\u001b[39;49m\u001b[39m.\u001b[39;49m_capture_by_value),\n\u001b[0;32m   2668\u001b[0m     \u001b[39mself\u001b[39m\u001b[39m.\u001b[39m_function_attributes,\n\u001b[0;32m   2669\u001b[0m     \u001b[39m# Tell the ConcreteFunction to clean up its graph once it goes out of\u001b[39;00m\n\u001b[0;32m   2670\u001b[0m     \u001b[39m# scope. This is not the default behavior since it gets used in some\u001b[39;00m\n\u001b[0;32m   2671\u001b[0m     \u001b[39m# places (like Keras) where the FuncGraph lives longer than the\u001b[39;00m\n\u001b[0;32m   2672\u001b[0m     \u001b[39m# ConcreteFunction.\u001b[39;00m\n\u001b[0;32m   2673\u001b[0m     shared_func_graph\u001b[39m=\u001b[39m\u001b[39mFalse\u001b[39;00m)\n\u001b[0;32m   2674\u001b[0m \u001b[39mreturn\u001b[39;00m graph_function\n",
      "File \u001b[1;32md:\\programming\\miniconda\\envs\\DeepLearning\\lib\\site-packages\\tensorflow\\python\\framework\\func_graph.py:981\u001b[0m, in \u001b[0;36mfunc_graph_from_py_func\u001b[1;34m(name, python_func, args, kwargs, signature, func_graph, autograph, autograph_options, add_control_dependencies, arg_names, op_return_value, collections, capture_by_value, override_flat_arg_shapes)\u001b[0m\n\u001b[0;32m    978\u001b[0m \u001b[39melse\u001b[39;00m:\n\u001b[0;32m    979\u001b[0m   _, original_func \u001b[39m=\u001b[39m tf_decorator\u001b[39m.\u001b[39munwrap(python_func)\n\u001b[1;32m--> 981\u001b[0m func_outputs \u001b[39m=\u001b[39m python_func(\u001b[39m*\u001b[39;49mfunc_args, \u001b[39m*\u001b[39;49m\u001b[39m*\u001b[39;49mfunc_kwargs)\n\u001b[0;32m    983\u001b[0m \u001b[39m# invariant: `func_outputs` contains only Tensors, CompositeTensors,\u001b[39;00m\n\u001b[0;32m    984\u001b[0m \u001b[39m# TensorArrays and `None`s.\u001b[39;00m\n\u001b[0;32m    985\u001b[0m func_outputs \u001b[39m=\u001b[39m nest\u001b[39m.\u001b[39mmap_structure(convert, func_outputs,\n\u001b[0;32m    986\u001b[0m                                   expand_composites\u001b[39m=\u001b[39m\u001b[39mTrue\u001b[39;00m)\n",
      "File \u001b[1;32md:\\programming\\miniconda\\envs\\DeepLearning\\lib\\site-packages\\tensorflow\\python\\data\\ops\\dataset_ops.py:3214\u001b[0m, in \u001b[0;36mStructuredFunctionWrapper.__init__.<locals>.wrapper_fn\u001b[1;34m(*args)\u001b[0m\n\u001b[0;32m   3208\u001b[0m \u001b[39m@eager_function\u001b[39m\u001b[39m.\u001b[39mdefun_with_attributes(\n\u001b[0;32m   3209\u001b[0m     input_signature\u001b[39m=\u001b[39mstructure\u001b[39m.\u001b[39mget_flat_tensor_specs(\n\u001b[0;32m   3210\u001b[0m         \u001b[39mself\u001b[39m\u001b[39m.\u001b[39m_input_structure),\n\u001b[0;32m   3211\u001b[0m     autograph\u001b[39m=\u001b[39m\u001b[39mFalse\u001b[39;00m,\n\u001b[0;32m   3212\u001b[0m     attributes\u001b[39m=\u001b[39mdefun_kwargs)\n\u001b[0;32m   3213\u001b[0m \u001b[39mdef\u001b[39;00m \u001b[39mwrapper_fn\u001b[39m(\u001b[39m*\u001b[39margs):  \u001b[39m# pylint: disable=missing-docstring\u001b[39;00m\n\u001b[1;32m-> 3214\u001b[0m   ret \u001b[39m=\u001b[39m _wrapper_helper(\u001b[39m*\u001b[39;49margs)\n\u001b[0;32m   3215\u001b[0m   ret \u001b[39m=\u001b[39m structure\u001b[39m.\u001b[39mto_tensor_list(\u001b[39mself\u001b[39m\u001b[39m.\u001b[39m_output_structure, ret)\n\u001b[0;32m   3216\u001b[0m   \u001b[39mreturn\u001b[39;00m [ops\u001b[39m.\u001b[39mconvert_to_tensor(t) \u001b[39mfor\u001b[39;00m t \u001b[39min\u001b[39;00m ret]\n",
      "File \u001b[1;32md:\\programming\\miniconda\\envs\\DeepLearning\\lib\\site-packages\\tensorflow\\python\\data\\ops\\dataset_ops.py:3156\u001b[0m, in \u001b[0;36mStructuredFunctionWrapper.__init__.<locals>._wrapper_helper\u001b[1;34m(*args)\u001b[0m\n\u001b[0;32m   3153\u001b[0m \u001b[39mif\u001b[39;00m \u001b[39mnot\u001b[39;00m _should_unpack_args(nested_args):\n\u001b[0;32m   3154\u001b[0m   nested_args \u001b[39m=\u001b[39m (nested_args,)\n\u001b[1;32m-> 3156\u001b[0m ret \u001b[39m=\u001b[39m autograph\u001b[39m.\u001b[39;49mtf_convert(func, ag_ctx)(\u001b[39m*\u001b[39;49mnested_args)\n\u001b[0;32m   3157\u001b[0m \u001b[39m# If `func` returns a list of tensors, `nest.flatten()` and\u001b[39;00m\n\u001b[0;32m   3158\u001b[0m \u001b[39m# `ops.convert_to_tensor()` would conspire to attempt to stack\u001b[39;00m\n\u001b[0;32m   3159\u001b[0m \u001b[39m# those tensors into a single tensor, because the customized\u001b[39;00m\n\u001b[1;32m   (...)\u001b[0m\n\u001b[0;32m   3165\u001b[0m \u001b[39m# the return value into a single tensor can use an explicit\u001b[39;00m\n\u001b[0;32m   3166\u001b[0m \u001b[39m# `tf.stack()` before returning.\u001b[39;00m\n\u001b[0;32m   3167\u001b[0m \u001b[39mif\u001b[39;00m \u001b[39misinstance\u001b[39m(ret, \u001b[39mlist\u001b[39m):\n",
      "File \u001b[1;32md:\\programming\\miniconda\\envs\\DeepLearning\\lib\\site-packages\\tensorflow\\python\\autograph\\impl\\api.py:262\u001b[0m, in \u001b[0;36mconvert.<locals>.decorator.<locals>.wrapper\u001b[1;34m(*args, **kwargs)\u001b[0m\n\u001b[0;32m    260\u001b[0m \u001b[39mtry\u001b[39;00m:\n\u001b[0;32m    261\u001b[0m   \u001b[39mwith\u001b[39;00m conversion_ctx:\n\u001b[1;32m--> 262\u001b[0m     \u001b[39mreturn\u001b[39;00m converted_call(f, args, kwargs, options\u001b[39m=\u001b[39;49moptions)\n\u001b[0;32m    263\u001b[0m \u001b[39mexcept\u001b[39;00m \u001b[39mException\u001b[39;00m \u001b[39mas\u001b[39;00m e:  \u001b[39m# pylint:disable=broad-except\u001b[39;00m\n\u001b[0;32m    264\u001b[0m   \u001b[39mif\u001b[39;00m \u001b[39mhasattr\u001b[39m(e, \u001b[39m'\u001b[39m\u001b[39mag_error_metadata\u001b[39m\u001b[39m'\u001b[39m):\n",
      "File \u001b[1;32md:\\programming\\miniconda\\envs\\DeepLearning\\lib\\site-packages\\tensorflow\\python\\autograph\\impl\\api.py:492\u001b[0m, in \u001b[0;36mconverted_call\u001b[1;34m(f, args, kwargs, caller_fn_scope, options)\u001b[0m\n\u001b[0;32m    489\u001b[0m   \u001b[39mreturn\u001b[39;00m _call_unconverted(f, args, kwargs, options)\n\u001b[0;32m    491\u001b[0m \u001b[39mif\u001b[39;00m \u001b[39mnot\u001b[39;00m options\u001b[39m.\u001b[39muser_requested \u001b[39mand\u001b[39;00m conversion\u001b[39m.\u001b[39mis_whitelisted(f):\n\u001b[1;32m--> 492\u001b[0m   \u001b[39mreturn\u001b[39;00m _call_unconverted(f, args, kwargs, options)\n\u001b[0;32m    494\u001b[0m \u001b[39m# internal_convert_user_code is for example turned off when issuing a dynamic\u001b[39;00m\n\u001b[0;32m    495\u001b[0m \u001b[39m# call conversion from generated code while in nonrecursive mode. In that\u001b[39;00m\n\u001b[0;32m    496\u001b[0m \u001b[39m# case we evidently don't want to recurse, but we still have to convert\u001b[39;00m\n\u001b[0;32m    497\u001b[0m \u001b[39m# things like builtins.\u001b[39;00m\n\u001b[0;32m    498\u001b[0m \u001b[39mif\u001b[39;00m \u001b[39mnot\u001b[39;00m options\u001b[39m.\u001b[39minternal_convert_user_code:\n",
      "File \u001b[1;32md:\\programming\\miniconda\\envs\\DeepLearning\\lib\\site-packages\\tensorflow\\python\\autograph\\impl\\api.py:346\u001b[0m, in \u001b[0;36m_call_unconverted\u001b[1;34m(f, args, kwargs, options, update_cache)\u001b[0m\n\u001b[0;32m    343\u001b[0m   \u001b[39mreturn\u001b[39;00m f\u001b[39m.\u001b[39m\u001b[39m__self__\u001b[39m\u001b[39m.\u001b[39mcall(args, kwargs)\n\u001b[0;32m    345\u001b[0m \u001b[39mif\u001b[39;00m kwargs \u001b[39mis\u001b[39;00m \u001b[39mnot\u001b[39;00m \u001b[39mNone\u001b[39;00m:\n\u001b[1;32m--> 346\u001b[0m   \u001b[39mreturn\u001b[39;00m f(\u001b[39m*\u001b[39;49margs, \u001b[39m*\u001b[39;49m\u001b[39m*\u001b[39;49mkwargs)\n\u001b[0;32m    347\u001b[0m \u001b[39melse\u001b[39;00m:\n\u001b[0;32m    348\u001b[0m   \u001b[39mreturn\u001b[39;00m f(\u001b[39m*\u001b[39margs)\n",
      "File \u001b[1;32md:\\programming\\miniconda\\envs\\DeepLearning\\lib\\site-packages\\tensorflow\\python\\keras\\engine\\data_adapter.py:348\u001b[0m, in \u001b[0;36mTensorLikeDataAdapter.__init__.<locals>.slice_batch_indices\u001b[1;34m(indices)\u001b[0m\n\u001b[0;32m    346\u001b[0m num_in_full_batch \u001b[39m=\u001b[39m num_full_batches \u001b[39m*\u001b[39m batch_size\n\u001b[0;32m    347\u001b[0m first_k_indices \u001b[39m=\u001b[39m array_ops\u001b[39m.\u001b[39mslice(indices, [\u001b[39m0\u001b[39m], [num_in_full_batch])\n\u001b[1;32m--> 348\u001b[0m first_k_indices \u001b[39m=\u001b[39m array_ops\u001b[39m.\u001b[39;49mreshape(\n\u001b[0;32m    349\u001b[0m     first_k_indices, [num_full_batches, batch_size])\n\u001b[0;32m    351\u001b[0m flat_dataset \u001b[39m=\u001b[39m dataset_ops\u001b[39m.\u001b[39mDatasetV2\u001b[39m.\u001b[39mfrom_tensor_slices(first_k_indices)\n\u001b[0;32m    352\u001b[0m \u001b[39mif\u001b[39;00m \u001b[39mself\u001b[39m\u001b[39m.\u001b[39m_partial_batch_size:\n",
      "File \u001b[1;32md:\\programming\\miniconda\\envs\\DeepLearning\\lib\\site-packages\\tensorflow\\python\\ops\\array_ops.py:193\u001b[0m, in \u001b[0;36mreshape\u001b[1;34m(tensor, shape, name)\u001b[0m\n\u001b[0;32m     58\u001b[0m \u001b[39m@tf_export\u001b[39m(\u001b[39m\"\u001b[39m\u001b[39mreshape\u001b[39m\u001b[39m\"\u001b[39m, v1\u001b[39m=\u001b[39m[\u001b[39m\"\u001b[39m\u001b[39mreshape\u001b[39m\u001b[39m\"\u001b[39m, \u001b[39m\"\u001b[39m\u001b[39mmanip.reshape\u001b[39m\u001b[39m\"\u001b[39m])\n\u001b[0;32m     59\u001b[0m \u001b[39mdef\u001b[39;00m \u001b[39mreshape\u001b[39m(tensor, shape, name\u001b[39m=\u001b[39m\u001b[39mNone\u001b[39;00m):  \u001b[39m# pylint: disable=redefined-outer-name\u001b[39;00m\n\u001b[0;32m     60\u001b[0m \u001b[39m  \u001b[39m\u001b[39mr\u001b[39m\u001b[39m\"\"\"Reshapes a tensor.\u001b[39;00m\n\u001b[0;32m     61\u001b[0m \n\u001b[0;32m     62\u001b[0m \u001b[39m  Given `tensor`, this operation returns a new `tf.Tensor` that has the same\u001b[39;00m\n\u001b[1;32m   (...)\u001b[0m\n\u001b[0;32m    191\u001b[0m \u001b[39m    A `Tensor`. Has the same type as `tensor`.\u001b[39;00m\n\u001b[0;32m    192\u001b[0m \u001b[39m  \"\"\"\u001b[39;00m\n\u001b[1;32m--> 193\u001b[0m   result \u001b[39m=\u001b[39m gen_array_ops\u001b[39m.\u001b[39;49mreshape(tensor, shape, name)\n\u001b[0;32m    194\u001b[0m   tensor_util\u001b[39m.\u001b[39mmaybe_set_static_shape(result, shape)\n\u001b[0;32m    195\u001b[0m   \u001b[39mreturn\u001b[39;00m result\n",
      "File \u001b[1;32md:\\programming\\miniconda\\envs\\DeepLearning\\lib\\site-packages\\tensorflow\\python\\ops\\gen_array_ops.py:8086\u001b[0m, in \u001b[0;36mreshape\u001b[1;34m(tensor, shape, name)\u001b[0m\n\u001b[0;32m   8084\u001b[0m     _ops\u001b[39m.\u001b[39mraise_from_not_ok_status(e, name)\n\u001b[0;32m   8085\u001b[0m \u001b[39m# Add nodes to the TensorFlow graph.\u001b[39;00m\n\u001b[1;32m-> 8086\u001b[0m _, _, _op, _outputs \u001b[39m=\u001b[39m _op_def_library\u001b[39m.\u001b[39;49m_apply_op_helper(\n\u001b[0;32m   8087\u001b[0m       \u001b[39m\"\u001b[39;49m\u001b[39mReshape\u001b[39;49m\u001b[39m\"\u001b[39;49m, tensor\u001b[39m=\u001b[39;49mtensor, shape\u001b[39m=\u001b[39;49mshape, name\u001b[39m=\u001b[39;49mname)\n\u001b[0;32m   8088\u001b[0m _result \u001b[39m=\u001b[39m _outputs[:]\n\u001b[0;32m   8089\u001b[0m \u001b[39mif\u001b[39;00m _execute\u001b[39m.\u001b[39mmust_record_gradient():\n",
      "File \u001b[1;32md:\\programming\\miniconda\\envs\\DeepLearning\\lib\\site-packages\\tensorflow\\python\\framework\\op_def_library.py:742\u001b[0m, in \u001b[0;36m_apply_op_helper\u001b[1;34m(op_type_name, name, **keywords)\u001b[0m\n\u001b[0;32m    737\u001b[0m must_colocate_inputs \u001b[39m=\u001b[39m [val \u001b[39mfor\u001b[39;00m arg, val \u001b[39min\u001b[39;00m \u001b[39mzip\u001b[39m(op_def\u001b[39m.\u001b[39minput_arg, inputs)\n\u001b[0;32m    738\u001b[0m                         \u001b[39mif\u001b[39;00m arg\u001b[39m.\u001b[39mis_ref]\n\u001b[0;32m    739\u001b[0m \u001b[39mwith\u001b[39;00m _MaybeColocateWith(must_colocate_inputs):\n\u001b[0;32m    740\u001b[0m   \u001b[39m# Add Op to graph\u001b[39;00m\n\u001b[0;32m    741\u001b[0m   \u001b[39m# pylint: disable=protected-access\u001b[39;00m\n\u001b[1;32m--> 742\u001b[0m   op \u001b[39m=\u001b[39m g\u001b[39m.\u001b[39;49m_create_op_internal(op_type_name, inputs, dtypes\u001b[39m=\u001b[39;49m\u001b[39mNone\u001b[39;49;00m,\n\u001b[0;32m    743\u001b[0m                              name\u001b[39m=\u001b[39;49mscope, input_types\u001b[39m=\u001b[39;49minput_types,\n\u001b[0;32m    744\u001b[0m                              attrs\u001b[39m=\u001b[39;49mattr_protos, op_def\u001b[39m=\u001b[39;49mop_def)\n\u001b[0;32m    746\u001b[0m \u001b[39m# `outputs` is returned as a separate return value so that the output\u001b[39;00m\n\u001b[0;32m    747\u001b[0m \u001b[39m# tensors can the `op` per se can be decoupled so that the\u001b[39;00m\n\u001b[0;32m    748\u001b[0m \u001b[39m# `op_callbacks` can function properly. See framework/op_callbacks.py\u001b[39;00m\n\u001b[0;32m    749\u001b[0m \u001b[39m# for more details.\u001b[39;00m\n\u001b[0;32m    750\u001b[0m outputs \u001b[39m=\u001b[39m op\u001b[39m.\u001b[39moutputs\n",
      "File \u001b[1;32md:\\programming\\miniconda\\envs\\DeepLearning\\lib\\site-packages\\tensorflow\\python\\framework\\func_graph.py:593\u001b[0m, in \u001b[0;36mFuncGraph._create_op_internal\u001b[1;34m(self, op_type, inputs, dtypes, input_types, name, attrs, op_def, compute_device)\u001b[0m\n\u001b[0;32m    591\u001b[0m   inp \u001b[39m=\u001b[39m \u001b[39mself\u001b[39m\u001b[39m.\u001b[39mcapture(inp)\n\u001b[0;32m    592\u001b[0m   inputs[i] \u001b[39m=\u001b[39m inp\n\u001b[1;32m--> 593\u001b[0m \u001b[39mreturn\u001b[39;00m \u001b[39msuper\u001b[39;49m(FuncGraph, \u001b[39mself\u001b[39;49m)\u001b[39m.\u001b[39;49m_create_op_internal(  \u001b[39m# pylint: disable=protected-access\u001b[39;49;00m\n\u001b[0;32m    594\u001b[0m     op_type, inputs, dtypes, input_types, name, attrs, op_def,\n\u001b[0;32m    595\u001b[0m     compute_device)\n",
      "File \u001b[1;32md:\\programming\\miniconda\\envs\\DeepLearning\\lib\\site-packages\\tensorflow\\python\\framework\\ops.py:3319\u001b[0m, in \u001b[0;36mGraph._create_op_internal\u001b[1;34m(self, op_type, inputs, dtypes, input_types, name, attrs, op_def, compute_device)\u001b[0m\n\u001b[0;32m   3316\u001b[0m \u001b[39m# _create_op_helper mutates the new Operation. `_mutation_lock` ensures a\u001b[39;00m\n\u001b[0;32m   3317\u001b[0m \u001b[39m# Session.run call cannot occur between creating and mutating the op.\u001b[39;00m\n\u001b[0;32m   3318\u001b[0m \u001b[39mwith\u001b[39;00m \u001b[39mself\u001b[39m\u001b[39m.\u001b[39m_mutation_lock():\n\u001b[1;32m-> 3319\u001b[0m   ret \u001b[39m=\u001b[39m Operation(\n\u001b[0;32m   3320\u001b[0m       node_def,\n\u001b[0;32m   3321\u001b[0m       \u001b[39mself\u001b[39;49m,\n\u001b[0;32m   3322\u001b[0m       inputs\u001b[39m=\u001b[39;49minputs,\n\u001b[0;32m   3323\u001b[0m       output_types\u001b[39m=\u001b[39;49mdtypes,\n\u001b[0;32m   3324\u001b[0m       control_inputs\u001b[39m=\u001b[39;49mcontrol_inputs,\n\u001b[0;32m   3325\u001b[0m       input_types\u001b[39m=\u001b[39;49minput_types,\n\u001b[0;32m   3326\u001b[0m       original_op\u001b[39m=\u001b[39;49m\u001b[39mself\u001b[39;49m\u001b[39m.\u001b[39;49m_default_original_op,\n\u001b[0;32m   3327\u001b[0m       op_def\u001b[39m=\u001b[39;49mop_def)\n\u001b[0;32m   3328\u001b[0m   \u001b[39mself\u001b[39m\u001b[39m.\u001b[39m_create_op_helper(ret, compute_device\u001b[39m=\u001b[39mcompute_device)\n\u001b[0;32m   3329\u001b[0m \u001b[39mreturn\u001b[39;00m ret\n",
      "File \u001b[1;32md:\\programming\\miniconda\\envs\\DeepLearning\\lib\\site-packages\\tensorflow\\python\\framework\\ops.py:1816\u001b[0m, in \u001b[0;36mOperation.__init__\u001b[1;34m(self, node_def, g, inputs, output_types, control_inputs, input_types, original_op, op_def)\u001b[0m\n\u001b[0;32m   1814\u001b[0m   \u001b[39mif\u001b[39;00m op_def \u001b[39mis\u001b[39;00m \u001b[39mNone\u001b[39;00m:\n\u001b[0;32m   1815\u001b[0m     op_def \u001b[39m=\u001b[39m \u001b[39mself\u001b[39m\u001b[39m.\u001b[39m_graph\u001b[39m.\u001b[39m_get_op_def(node_def\u001b[39m.\u001b[39mop)\n\u001b[1;32m-> 1816\u001b[0m   \u001b[39mself\u001b[39m\u001b[39m.\u001b[39m_c_op \u001b[39m=\u001b[39m _create_c_op(\u001b[39mself\u001b[39;49m\u001b[39m.\u001b[39;49m_graph, node_def, inputs,\n\u001b[0;32m   1817\u001b[0m                             control_input_ops, op_def)\n\u001b[0;32m   1818\u001b[0m   name \u001b[39m=\u001b[39m compat\u001b[39m.\u001b[39mas_str(node_def\u001b[39m.\u001b[39mname)\n\u001b[0;32m   1819\u001b[0m \u001b[39m# pylint: enable=protected-access\u001b[39;00m\n",
      "File \u001b[1;32md:\\programming\\miniconda\\envs\\DeepLearning\\lib\\site-packages\\tensorflow\\python\\framework\\ops.py:1654\u001b[0m, in \u001b[0;36m_create_c_op\u001b[1;34m(graph, node_def, inputs, control_inputs, op_def)\u001b[0m\n\u001b[0;32m   1650\u001b[0m   pywrap_tf_session\u001b[39m.\u001b[39mTF_SetAttrValueProto(op_desc, compat\u001b[39m.\u001b[39mas_str(name),\n\u001b[0;32m   1651\u001b[0m                                          serialized)\n\u001b[0;32m   1653\u001b[0m \u001b[39mtry\u001b[39;00m:\n\u001b[1;32m-> 1654\u001b[0m   c_op \u001b[39m=\u001b[39m pywrap_tf_session\u001b[39m.\u001b[39;49mTF_FinishOperation(op_desc)\n\u001b[0;32m   1655\u001b[0m \u001b[39mexcept\u001b[39;00m errors\u001b[39m.\u001b[39mInvalidArgumentError \u001b[39mas\u001b[39;00m e:\n\u001b[0;32m   1656\u001b[0m   \u001b[39m# Convert to ValueError for backwards compatibility.\u001b[39;00m\n\u001b[0;32m   1657\u001b[0m   \u001b[39mraise\u001b[39;00m \u001b[39mValueError\u001b[39;00m(\u001b[39mstr\u001b[39m(e))\n",
      "\u001b[1;31mKeyboardInterrupt\u001b[0m: "
     ]
    }
   ],
   "source": [
    "from Page_to_lines import get_lines, display_lines\n",
    "import tempfile\n",
    "\n",
    "def process_letter(letter_image, letter_idx, model):\n",
    "    predicted_letter, probability, predicted_index = recognize_letter(letter_image, model)\n",
    "    return predicted_letter\n",
    "\n",
    "def process_word(word_image, file_name, line_idx, word_idx, model, img_size):\n",
    "    result = ''\n",
    "    letters = extract_letters(word_image, img_size)\n",
    "    for letter_idx, letter_image in enumerate(letters):\n",
    "        result += process_letter(letter_image, letter_idx, model)\n",
    "    return result + ' '\n",
    "\n",
    "def process_line(line, file_name, line_idx, model, img_size):\n",
    "    result = ''\n",
    "    if not line.size == 0:\n",
    "        p_line = clear_background(line)\n",
    "        if not is_line_empty(p_line):\n",
    "            words_images = segment_words(line, p_line, file_name, line_idx)\n",
    "            for word_idx, word_image in enumerate(words_images):\n",
    "                result += process_word(word_image, file_name, line_idx, word_idx, model, img_size)\n",
    "    return result + ' '\n",
    "\n",
    "def process_image(image_path, model, img_size):\n",
    "    result = ''\n",
    "\n",
    "    image = cv2.imread(image_path)\n",
    "\n",
    "    # Resize the image before processing\n",
    "    resized_image = resize_image(image)\n",
    "\n",
    "    # Save the resized image in a temporary file\n",
    "    tmp_file_descriptor, tmp_file_name = tempfile.mkstemp(suffix='.jpg')\n",
    "    os.close(tmp_file_descriptor)\n",
    "    cv2.imwrite(tmp_file_name, resized_image)\n",
    "\n",
    "    lines = get_lines(tmp_file_name, kernel_size=17, sigma=3, theta=9, smooth_window_len=3, threshold=0.3, peak_min_distance=2)\n",
    "\n",
    "    os.remove(tmp_file_name)\n",
    "\n",
    "    # The temporary file will be deleted when the context manager exits\n",
    "\n",
    "    for line_idx, line in enumerate(lines):\n",
    "        result += process_line(line, image_path, line_idx, model, img_size)\n",
    "\n",
    "    return result.lower()\n",
    "\n",
    "# Assuming you have the other necessary functions defined above\n",
    "\n",
    "for file_name in os.listdir(image_folder):\n",
    "    if file_name.endswith(\".jpg\") or file_name.endswith(\".png\"):\n",
    "        image_path = os.path.join(image_folder, file_name)\n",
    "        print(f\"Processing {image_path}\")\n",
    "\n",
    "        result = process_image(image_path, model, 32)\n",
    "        print(result.lower())\n",
    "\n",
    "print(\"Processing completed.\")\n"
   ]
  }
 ],
 "metadata": {
  "kernelspec": {
   "display_name": "DeepLearning",
   "language": "python",
   "name": "python3"
  },
  "language_info": {
   "codemirror_mode": {
    "name": "ipython",
    "version": 3
   },
   "file_extension": ".py",
   "mimetype": "text/x-python",
   "name": "python",
   "nbconvert_exporter": "python",
   "pygments_lexer": "ipython3",
   "version": "3.8.16"
  },
  "orig_nbformat": 4
 },
 "nbformat": 4,
 "nbformat_minor": 2
}
